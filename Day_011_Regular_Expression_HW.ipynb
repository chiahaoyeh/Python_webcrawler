{
  "cells": [
    {
      "cell_type": "markdown",
      "metadata": {
        "id": "qzmTtTzbkKZz"
      },
      "source": [
        "# 正規表達式練習\n",
        "## 在網路爬蟲當中，正規表達式常常用來過濾以及搜尋特定的pattern字串。\n",
        "## 今天要來練習過濾IP address，以及URL。"
      ]
    },
    {
      "cell_type": "code",
      "execution_count": 2,
      "metadata": {
        "id": "aZOXgk_GkKZ7"
      },
      "outputs": [],
      "source": [
        "import re  #載入re模組"
      ]
    },
    {
      "cell_type": "code",
      "execution_count": 3,
      "metadata": {
        "id": "DNJeinwOkKZ9"
      },
      "outputs": [],
      "source": [
        "# 定義一個函數，用來測試是否能匹配正規表達式\n",
        "def RegexMatchingTest(regex, input_text):\n",
        "    #將正規表達式轉換成pattern\n",
        "    pattern = re.compile(regex)\n",
        "    \n",
        "    # 使轉換後的pattern，來測試是否匹配\n",
        "    result = re.search(pattern, input_text)\n",
        "\n",
        "    if result:\n",
        "        # 匹配完的結果會儲存在group()的屬性中，我們可以把匹配的結果列印出來\n",
        "        print(\"Matched: %s\" % (result.group()))\n",
        "        \n",
        "        if result.lastindex is not None:\n",
        "            # group(0)代表整個字串，group(1)、group(2)...代表分組中，匹配的內容\n",
        "            for i in range(0, result.lastindex+1):\n",
        "                print(\"  group(%d): %s\" % (i, result.group(i)))\n",
        "    else:\n",
        "        print(\"Not matched.\")"
      ]
    },
    {
      "cell_type": "markdown",
      "metadata": {
        "id": "2EUzkWDtkKZ-"
      },
      "source": [
        "## 用正規表達式過濾IP address。\n",
        "#### 一個合法的網路IP address，其格式為：X.X.X.X, 其中X是0~255的數字。我們可以用一個regex，來表達IP address的內容。"
      ]
    },
    {
      "cell_type": "code",
      "execution_count": 4,
      "metadata": {
        "id": "WxUuQO0fkKZ_",
        "outputId": "c04438ec-4709-4146-b6a6-e00f8b0e8eb3",
        "colab": {
          "base_uri": "https://localhost:8080/"
        }
      },
      "outputs": [
        {
          "output_type": "stream",
          "name": "stdout",
          "text": [
            "Matched: 216.58.200.227\n",
            "  group(0): 216.58.200.227\n",
            "  group(1): 216\n",
            "  group(2): 58\n",
            "  group(3): 200\n",
            "  group(4): 227\n"
          ]
        }
      ],
      "source": [
        "test_string = \"Google IP address is 216.58.200.227\"\n",
        "\n",
        "# 過濾IP address的regex pattern\n",
        "regex = '(\\d{1,3}).(\\d{1,3}).(\\d{1,3}).(\\d{1,3})'\n",
        "RegexMatchingTest(regex, test_string)"
      ]
    },
    {
      "cell_type": "markdown",
      "metadata": {
        "id": "dUAAm38-kKaA"
      },
      "source": [
        "#### 以上是最簡單的regex寫法。但深入思考，上面的regex也能夠匹配444.555.666.777這種無效的IP address。\n",
        "#### 我們必須再雕琢regex，只接受[0~255].[0~255].[0~255].[0~255]這種合法的IP address，而過濾不合法的IP。"
      ]
    },
    {
      "cell_type": "code",
      "execution_count": 32,
      "metadata": {
        "id": "9dpGGhS_kKaA",
        "outputId": "623c75c4-bc5d-4f48-8428-fa17a606ddb5",
        "colab": {
          "base_uri": "https://localhost:8080/"
        }
      },
      "outputs": [
        {
          "output_type": "stream",
          "name": "stdout",
          "text": [
            "Matched: 216.58.200.227\n",
            "  group(0): 216.58.200.227\n",
            "  group(1): 216\n",
            "  group(2): 58\n",
            "  group(3): 200\n",
            "  group(4): 227\n",
            "Not matched.\n"
          ]
        }
      ],
      "source": [
        "'''\n",
        "    Your code here.\n",
        "    hint: 把IP可能出現的數字範圍，分開來思考\n",
        "          1. 000 ~ 199\n",
        "          2. 200 ~ 249\n",
        "          3. 250 ~ 255\n",
        "'''\n",
        "regex = '([01]?\\d?\\d|2[0-4]\\d|25[0-5])\\.([01]?\\d?\\d|2[0-4]\\d|25[0-5])\\.([01]?\\d?\\d|2[0-4]\\d|25[0-5])\\.([01]?\\d?\\d|2[0-4]\\d|25[0-5])$'\n",
        "\n",
        "test_string1 = \"Test IP 216.58.200.227\"\n",
        "RegexMatchingTest(regex, test_string1)  #測試表達式是否會匹配此合法IP\n",
        "\n",
        "test_string2 = \"Test IP 999.888.777.666\"\n",
        "RegexMatchingTest(regex, test_string2)  #測試表達式是否會匹配此不合法IP"
      ]
    },
    {
      "cell_type": "markdown",
      "metadata": {
        "id": "sX-bYUWnkKaB"
      },
      "source": [
        "## 用正規表達式過濾URL。\n",
        "#### 在網頁爬蟲中，常常會有外部連結的A tag，例如：\n",
        "< a href=\"https://movies.yahoo.com.tw/movietime_result.html/id=9467\"> 時刻表 < /a >\n",
        "#### 我們要把\"href=\"之後的URL擷取出來，用來做後續處理。"
      ]
    },
    {
      "cell_type": "code",
      "execution_count": 86,
      "metadata": {
        "id": "SnmLKO9SkKaC",
        "outputId": "9581435b-0ed4-4c71-e500-d980e5045f65",
        "colab": {
          "base_uri": "https://localhost:8080/"
        }
      },
      "outputs": [
        {
          "output_type": "stream",
          "name": "stdout",
          "text": [
            "Matched: https://movies.yahoo.com.tw/movietime_result.html/id=9467\n"
          ]
        }
      ],
      "source": [
        "html_a_tag = \"<a href=https://movies.yahoo.com.tw/movietime_result.html/id=9467> 時刻表 </a>\"\n",
        "\n",
        "'''\n",
        "    Your code here.\n",
        "    過濾URL的regex pattern\n",
        "'''\n",
        "regex = 'http\\S+(?=>)'\n",
        "RegexMatchingTest(regex, html_a_tag)"
      ]
    }
  ],
  "metadata": {
    "kernelspec": {
      "display_name": "Python 3",
      "language": "python",
      "name": "python3"
    },
    "language_info": {
      "codemirror_mode": {
        "name": "ipython",
        "version": 3
      },
      "file_extension": ".py",
      "mimetype": "text/x-python",
      "name": "python",
      "nbconvert_exporter": "python",
      "pygments_lexer": "ipython3",
      "version": "3.6.4"
    },
    "colab": {
      "name": "Day_011_Regular_Expression_HW.ipynb",
      "provenance": []
    }
  },
  "nbformat": 4,
  "nbformat_minor": 0
}