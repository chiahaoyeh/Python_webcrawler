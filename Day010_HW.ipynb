{
  "cells": [
    {
      "cell_type": "markdown",
      "metadata": {
        "id": "RQP_COVnePEc"
      },
      "source": [
        "# 其他工具：Grab、PyQuery\n",
        "\n",
        "\n",
        "* 利用 Grab 套件的存取 HTML 資源\n",
        "* 利用 PyQuery 套件的解析 HTML 格式\n"
      ]
    },
    {
      "cell_type": "markdown",
      "metadata": {
        "id": "YlVRtxX5ePEi"
      },
      "source": [
        "## 作業目標\n",
        "\n",
        "將之前用 requests + beatifulsoup 實作的方式，改寫成 grab + pyquery，並且比較有哪些地方不同。\n",
        "\n",
        "\n",
        "\n"
      ]
    },
    {
      "cell_type": "markdown",
      "metadata": {
        "id": "BTxrQelbePEi"
      },
      "source": [
        "## requests + BeautifulSoup\n"
      ]
    },
    {
      "cell_type": "code",
      "execution_count": null,
      "metadata": {
        "id": "XlCTdaNBePEj",
        "outputId": "e7b47453-cab0-4e8c-ebc6-f0bbfe6eafec"
      },
      "outputs": [
        {
          "data": {
            "text/plain": [
              "'\\nYour Code\\n'"
            ]
          },
          "execution_count": 1,
          "metadata": {},
          "output_type": "execute_result"
        }
      ],
      "source": [
        "import requests\n",
        "import os\n",
        "from bs4 import BeautifulSoup\n",
        "from PIL import Image\n",
        "import io\n",
        "\n",
        "url = 'https://www.ptt.cc/bbs/Beauty/M.1574854555.A.E5C.html'\n",
        "resp = requests.get(url, cookies={'over18': '1'})\n",
        "soup = BeautifulSoup(resp.text)\n",
        "\n",
        "output_dir = 'downloads'\n",
        "\n",
        "if not os.path.exists(output_dir):\n",
        "    os.makedirs(output_dir)\n",
        "\n",
        "image_tags = soup.find(id='main-content').findChildren('a', recursive=False)\n",
        "\n",
        "for img_tag in image_tags:\n",
        "    if 'imgur' not in img_tag['href']:\n",
        "        continue\n",
        "    Img_Name = img_tag['href'].split('/')[-1]\n",
        "    img_url = 'https://i.imgur.com/{}'.format(Img_Name)\n",
        "    with requests.get(img_url) as r:\n",
        "        img = Image.open(io.BytesIO(r.content))\n",
        "        img_save = '{img_dir}/{img_id}'.format(img_dir=output_dir, img_id=Img_Name)\n",
        "        img.save(img_save)"
      ]
    },
    {
      "cell_type": "markdown",
      "metadata": {
        "id": "P1JzRuK8ePEl"
      },
      "source": [
        "## Grab + PyQuery"
      ]
    },
    {
      "cell_type": "code",
      "execution_count": 2,
      "metadata": {
        "scrolled": false,
        "id": "DkvALR5tePEl",
        "outputId": "596ce070-a58e-4684-8751-cfbd87109b4f",
        "colab": {
          "base_uri": "https://localhost:8080/",
          "height": 35
        }
      },
      "outputs": [
        {
          "output_type": "execute_result",
          "data": {
            "text/plain": [
              "'\\nYour Code\\n'"
            ],
            "application/vnd.google.colaboratory.intrinsic+json": {
              "type": "string"
            }
          },
          "metadata": {},
          "execution_count": 2
        }
      ],
      "source": [
        "import os\n",
        "from grab import Grab\n",
        "from pyquery import PyQuery as pq\n",
        "\n",
        "url = 'https://www.ptt.cc/bbs/Beauty/M.1574854555.A.E5C.html'\n",
        "g = Grab()\n",
        "resp = g.go(url, cookies={'over18':'1'})\n",
        "doc = pq(resp.body)\n",
        "\n",
        "output_dir = 'downloads'\n",
        "\n",
        "if not os.path.exists(output_dir):\n",
        "    os.makedirs(output_dir)\n",
        "\n",
        "for item in doc('a').items():\n",
        "    if 'imgur' not in item.text():\n",
        "        continue\n",
        "    img_url = item.text()\n",
        "    Img_Name = item.text().split('/')[-1]\n",
        "    resp = g.go(img_url)\n",
        "    open('{img_dir}/{img_id}'.format(img_dir=output_dir, img_id=Img_Name), 'wb').write(resp.body)"
      ]
    },
    {
      "cell_type": "code",
      "execution_count": null,
      "metadata": {
        "id": "zqH1PJXvePEm"
      },
      "outputs": [],
      "source": [
        ""
      ]
    }
  ],
  "metadata": {
    "kernelspec": {
      "display_name": "Python 3",
      "language": "python",
      "name": "python3"
    },
    "language_info": {
      "codemirror_mode": {
        "name": "ipython",
        "version": 3
      },
      "file_extension": ".py",
      "mimetype": "text/x-python",
      "name": "python",
      "nbconvert_exporter": "python",
      "pygments_lexer": "ipython3",
      "version": "3.6.5"
    },
    "colab": {
      "name": "Day010_HW.ipynb",
      "provenance": []
    }
  },
  "nbformat": 4,
  "nbformat_minor": 0
}