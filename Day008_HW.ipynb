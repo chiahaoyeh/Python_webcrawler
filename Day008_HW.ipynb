{
  "cells": [
    {
      "cell_type": "markdown",
      "metadata": {
        "id": "H_Z2KnqQUA-p"
      },
      "source": [
        "# 靜態網頁的資料爬蟲策略\n",
        "\n",
        "\n",
        "* 了解靜態網頁的資料爬蟲策略\n",
        "* 認識適用於靜態網頁爬蟲的相關套件工具：Request\n",
        "* 認識適用於靜態網頁爬蟲的相關套件工具：BeatifulSoup"
      ]
    },
    {
      "cell_type": "markdown",
      "metadata": {
        "id": "YZdNwKyZUA-v"
      },
      "source": [
        "## 作業目標\n",
        "\n",
        "利用 Request + BeatifulSoup 爬取下列兩個網站內容並解析：\n",
        "\n",
        "1. Dcared 網址： https://www.dcard.tw/f\n",
        "2. 知乎： https://www.zhihu.com/explore\n",
        "\n",
        "並且回答下面問題：\n",
        "\n",
        "1. Request 取回之後該怎麼取出資料，資料型態是什麼？\n",
        "2. 為什麼要使用 BeatifulSoup 處理？處理後的型態是什麼？\n",
        "3. 觀察一下知乎回來的資料好像有點怪怪的，該怎麼解決？"
      ]
    },
    {
      "cell_type": "markdown",
      "metadata": {
        "id": "EWHj0zR3UA-v"
      },
      "source": [
        "### 1. Dcard 網址： https://www.dcard.tw/f"
      ]
    },
    {
      "cell_type": "code",
      "execution_count": 2,
      "metadata": {
        "id": "dJzO8BqvUA-w"
      },
      "outputs": [],
      "source": [
        "import requests\n",
        "from bs4 import BeautifulSoup\n"
      ]
    },
    {
      "cell_type": "code",
      "execution_count": 7,
      "metadata": {
        "id": "AYhG_p_NUA-y",
        "outputId": "e23136d8-d6bb-412d-f93f-b5f983c076ec",
        "colab": {
          "base_uri": "https://localhost:8080/"
        }
      },
      "outputs": [
        {
          "output_type": "stream",
          "name": "stdout",
          "text": [
            "<!DOCTYPE html>\n",
            "<!--[if lt IE 7]> <html class=\"no-js ie6 oldie\" lang=\"en-US\"> <![endif]-->\n",
            "<!--[if IE 7]>    <html class=\"no-js ie7 oldie\" lang=\"en-US\"> <![endif]-->\n",
            "<!--[if IE 8]>    <html class=\"no-js ie8 oldie\" lang=\"en-US\"> <![endif]-->\n",
            "<!--[if gt IE 8]><!--> <html class=\"no-js\" lang=\"en-US\"> <!--<![endif]-->\n",
            "<head>\n",
            "\n",
            "<title>Attention Required! | Cloudflare</title>\n",
            "\n",
            "<meta charset=\"UTF-8\" />\n",
            "<meta http-equiv=\"Content-Type\" content=\"text/html; charset=UTF-8\" />\n",
            "<meta http-equiv=\"X-UA-Compatible\" content=\"IE=Edge\" />\n",
            "<meta name=\"robots\" content=\"noindex, nofollow\" />\n",
            "<meta name=\"viewport\" content=\"width=device-width,initial-scale=1\" />\n",
            "<link rel=\"stylesheet\" id=\"cf_styles-css\" href=\"/cdn-cgi/styles/cf.errors.css\" />\n",
            "<!--[if lt IE 9]><link rel=\"stylesheet\" id='cf_styles-ie-css' href=\"/cdn-cgi/styles/cf.errors.ie.css\" /><![endif]-->\n",
            "<style>body{margin:0;padding:0}</style>\n",
            "\n",
            "\n",
            "<!--[if gte IE 10]><!-->\n",
            "<script>\n",
            "  if (!navigator.cookieEnabled) {\n",
            "    window.addEventListener('DOMContentLoaded', function () {\n",
            "      var cookieEl = document.getElementById('cookie-alert');\n",
            "      cookieEl.style.display = 'block';\n",
            "    })\n",
            "  }\n",
            "</script>\n",
            "<!--<![endif]-->\n",
            "\n",
            "\n",
            "    <script>\n",
            "    //<![CDATA[\n",
            "    (function(){\n",
            "      window._cf_chl_opt={\n",
            "        cvId: \"2\",\n",
            "        cType: \"interactive\",\n",
            "        cNounce: \"58368\",\n",
            "        cRay: \"727681228bd0b190\",\n",
            "        cHash: \"d43968986d21419\",\n",
            "        cUPMDTk: \"\\/f?__cf_chl_tk=LqSy0V4P58IrgkMHHRE5kzMW0oU7eExyOApeWDoM_wI-1657259028-0-gaNycGzNBz0\",\n",
            "        cFPWv: \"g\",\n",
            "        cTTimeMs: \"1000\",\n",
            "        cLt: \"n\",\n",
            "        cRq: {\n",
            "          ru: \"aHR0cHM6Ly93d3cuZGNhcmQudHcvZg==\",\n",
            "          ra: \"cHl0aG9uLXJlcXVlc3RzLzIuMjMuMA==\",\n",
            "          rm: \"R0VU\",\n",
            "          d: \"f9U2Dyro4jbYip9ZghnMWPHGveSfENZfm/IwOjTYmpMKK/R11YBvcow2a15hm2816/vQcxPn8irUd/yNYTxvD11jafCm4awSvOjoxWfNJXFdYUq7557oWq5nFZHYHjvsVf1Yrj0gqVdRIzZxT9YZyZ3QpDhbo7coAkWlZCPUOTHvkEthnNSyqaOnW47mQpZERM7JXcOFyyQbeKiALzQK4WtGmqhZgC/C30a+RjHSqXIcRoxYDa6d3yFOJkY/GZLf6k90HV9lENXDfINZioUqVWgROwzHY2E9BlDipXw8rkhN9X+AfdZDzSUjsFzy71QmFk5A23R3AvVVs+aB4uiVcwbV0YlLjnwZOY82e/Vh50K8Dne8SvcB92lij054zaZdx+4V+kcbHCTYhDsNHUlllbN6+149exEPnwcgv/l4Ur/slZUcaVgCGF8ZpPVrKlszOeJL25Q65iSjaLc94Gi9w0JsnyAuWzWV/Yz3+KPIwDBQ3/HJBbz8UxDakAfq2NOxuOEZ9axpLjidbp9U2Uxtw8aeCp9M9wgVnzxWpw198plua+VNpygrYOK+Km/5aAyfSY9fPfMuCSeMwtBQphrxObWvpUplSzv/jgfy9Jj7S0o=\",\n",
            "          t: \"MTY1NzI1OTAyOC44OTcwMDA=\",\n",
            "          m: \"F7HfSydRAkm1sUOFmrp8LucMExj3QCKuvU5wIxyjp+g=\",\n",
            "          i1: \"w4U9pC/Gih98cKc8eJjRRQ==\",\n",
            "          i2: \"IjeThMrAqnpM8xfCGUa+qQ==\",\n",
            "          zh: \"Ok+lSPYEdALB3ZANdgwyVRP4veQIRuHDtSrk9j6k5PM=\",\n",
            "          uh: \"7miS0Xxj9JuMfUL1dJ1m1OOYUPnyhcctTsOqdlLYMgc=\",\n",
            "          hh: \"zRzOAigP6xcxnKf5snryJLVJgndZSARNtnIbgQqzl/Q=\",\n",
            "        }\n",
            "      };\n",
            "    }());\n",
            "    //]]>\n",
            "    </script>\n",
            "\n",
            "<style>\n",
            "  #cf-wrapper #spinner {width:69px; margin:  auto;}\n",
            "  #cf-wrapper #cf-please-wait{text-align:center}\n",
            "  .attribution {margin-top: 32px;}\n",
            "  .bubbles { background-color: #f58220; width:20px; height: 20px; margin:2px; border-radius:100%; display:inline-b\n"
          ]
        }
      ],
      "source": [
        "\n",
        "url = 'https://www.dcard.tw/f'\n",
        "\n",
        "r = requests.get(url)\n",
        "response = r.text \n",
        "\n",
        "r.encoding = 'utf-8'\n",
        "print(r.text[0:3000])"
      ]
    },
    {
      "cell_type": "code",
      "execution_count": 5,
      "metadata": {
        "id": "SiS9ztuBUA-z",
        "outputId": "39fa0f0d-ad8b-434d-a840-71ce0f8ae595",
        "colab": {
          "base_uri": "https://localhost:8080/"
        }
      },
      "outputs": [
        {
          "output_type": "stream",
          "name": "stdout",
          "text": [
            "Request 取回之後該怎麼取出資料，資料型態是什麼？ =>\n",
            "<Response [403]>\n",
            "<class 'requests.models.Response'>\n"
          ]
        }
      ],
      "source": [
        "print('Request 取回之後該怎麼取出資料，資料型態是什麼？ =>')\n",
        "print(r.text)\n",
        "print(type(r.text))"
      ]
    },
    {
      "cell_type": "code",
      "execution_count": 8,
      "metadata": {
        "id": "Z_JVBNmJUA-0",
        "outputId": "d96f525f-5ed3-435d-80b9-f1ac84ba126e",
        "colab": {
          "base_uri": "https://localhost:8080/"
        }
      },
      "outputs": [
        {
          "output_type": "stream",
          "name": "stdout",
          "text": [
            "為什麼要使用 BeatifulSoup 處理？處理後的型態是什麼？ => \n",
            "<!DOCTYPE html>\n",
            "<!--[if lt IE 7]> <html class=\"no-js ie6 oldie\" lang=\"en-US\"> <![endif]--><!--[if IE 7]>    <html class=\"no-js ie7 oldie\" lang=\"en-US\"> <![endif]--><!--[if IE 8]>    <html class=\"no-js ie8 oldie\" lang=\"en-US\"> <![endif]--><!--[if gt IE 8]><!--><html class=\"no-js\" lang=\"en-US\"> <!--<![endif]-->\n",
            "<head>\n",
            "<title>Attention Required! | Cloudflare</title>\n",
            "<meta charset=\"utf-8\"/>\n",
            "<meta content=\"text/html; charset=utf-8\" http-equiv=\"Content-Type\"/>\n",
            "<meta content=\"IE=Edge\" http-equiv=\"X-UA-Compatible\"/>\n",
            "<meta content=\"noindex, nofollow\" name=\"robots\"/>\n",
            "<meta content=\"width=device-width,initial-scale=1\" name=\"viewport\"/>\n",
            "<link href=\"/cdn-cgi/styles/cf.errors.css\" id=\"cf_styles-css\" rel=\"stylesheet\"/>\n",
            "<!--[if lt IE 9]><link rel=\"stylesheet\" id='cf_styles-ie-css' href=\"/cdn-cgi/styles/cf.errors.ie.css\" /><![endif]-->\n",
            "<style>body{margin:0;padding:0}</style>\n",
            "<!--[if gte IE 10]><!-->\n",
            "<script>\n",
            "  if (!navigator.cookieEnabled) {\n",
            "    window.addEventListener('DOMContentLoaded', function () {\n",
            "      var cookieEl = document.getElementById('cookie-alert');\n",
            "      cookieEl.style.display = 'block';\n",
            "    })\n",
            "  }\n",
            "</script>\n",
            "<!--<![endif]-->\n",
            "<script>\n",
            "    //<![CDATA[\n",
            "    (function(){\n",
            "      window._cf_chl_opt={\n",
            "        cvId: \"2\",\n",
            "        cType: \"interactive\",\n",
            "        cNounce: \"58368\",\n",
            "        cRay: \"727681228bd0b190\",\n",
            "        cHash: \"d43968986d21419\",\n",
            "        cUPMDTk: \"\\/f?__cf_chl_tk=LqSy0V4P58IrgkMHHRE5kzMW0oU7eExyOApeWDoM_wI-1657259028-0-gaNycGzNBz0\",\n",
            "        cFPWv: \"g\",\n",
            "        cTTimeMs: \"1000\",\n",
            "        cLt: \"n\",\n",
            "        cRq: {\n",
            "          ru: \"aHR0cHM6Ly93d3cuZGNhcmQudHcvZg==\",\n",
            "          ra: \"cHl0aG9uLXJlcXVlc3RzLzIuMjMuMA==\",\n",
            "          rm: \"R0VU\",\n",
            "          d: \"f9U2Dyro4jbYip9ZghnMWPHGveSfENZfm/IwOjTYmpMKK/R11YBvcow2a15hm2816/vQcxPn8irUd/yNYTxvD11jafCm4awSvOjoxWfNJXFdYUq7557oWq5nFZHYHjvsVf1Yrj0gqVdRIzZxT9YZyZ3QpDhbo7coAkWlZCPUOTHvkEthnNSyqaOnW47mQpZERM7JXcOFyyQbeKiALzQK4WtGmqhZgC/C30a+RjHSqXIcRoxYDa6d3yFOJkY/GZLf6k90HV9lENXDfINZioUqVWgROwzHY2E9BlDipXw8rkhN9X+AfdZDzSUjsFzy71QmFk5A23R3AvVVs+aB4uiVcwbV0YlLjnwZOY82e/Vh50K8Dne8SvcB92lij054zaZdx+4V+kcbHCTYhDsNHUlllbN6+149exEPnwcgv/l4Ur/slZUcaVgCGF8ZpPVrKlszOeJL25Q65iSjaLc94Gi9w0JsnyAuWzWV/Yz3+KPIwDBQ3/HJBbz8UxDakAfq2NOxuOEZ9axpLjidbp9U2Uxtw8aeCp9M9wgVnzxWpw198plua+VNpygrYOK+Km/5aAyfSY9fPfMuCSeMwtBQphrxObWvpUplSzv/jgfy9Jj7S0o=\",\n",
            "          t: \"MTY1NzI1OTAyOC44OTcwMDA=\",\n",
            "          m: \"F7HfSydRAkm1sUOFmrp8LucMExj3QCKuvU5wIxyjp+g=\",\n",
            "          i1: \"w4U9pC/Gih98cKc8eJjRRQ==\",\n",
            "          i2: \"IjeThMrAqnpM8xfCGUa+qQ==\",\n",
            "          zh: \"Ok+lSPYEdALB3ZANdgwyVRP4veQIRuHDtSrk9j6k5PM=\",\n",
            "          uh: \"7miS0Xxj9JuMfUL1dJ1m1OOYUPnyhcctTsOqdlLYMgc=\",\n",
            "          hh: \"zRzOAigP6xcxnKf5snryJLVJgndZSARNtnIbgQqzl/Q=\",\n",
            "        }\n",
            "      };\n",
            "    }());\n",
            "    //]]>\n",
            "    </script>\n",
            "<style>\n",
            "  #cf-wrapper #spinner {width:69px; margin:  auto;}\n",
            "  #cf-wrapper #cf-please-wait{text-align:center}\n",
            "  .attribution {margin-top: 32px;}\n",
            "  .bubbles { background-color: #f58220; width:20px; height: 20px; margin:2px; border-radius:100%; display:inline-block; }\n",
            "  #cf-wrapper #challenge-form { padding-top:25px; padding-bottom:25px; }\n",
            "  #cf-hcaptcha-container { text-align:center;}\n",
            "  #cf-hcaptcha-container iframe { display: inline-block;}\n",
            "  @keyframes fader     { 0% {opacity: 0.2;} 50% {opacity: 1.0;} 100% {opacity: 0.2;} }\n",
            "  #cf-wrapper #cf-bubbles { width:69px; }\n",
            "  @-webkit-keyframes fader { 0% {opacity: 0.2;} 50% {opacity: 1.0;} 100% {opacity: 0.2;} }\n",
            "  #cf-bubbles > .bubbles { animation: fader 1.6s infinite;}\n",
            "  #cf-bubbles > .bubbles:nth-child(2) { animation-delay: .2s;}\n",
            "  #cf-bubbles > .bubbles:nth-child(3) { animation-delay: .4s;}\n",
            "</style>\n",
            "</head>\n",
            "<body>\n",
            "<div id=\"cf-wrapper\">\n",
            "<div class=\"cf-alert cf-alert-error cf-cookie-error\" data-translate=\"enable_cookies\" id=\"cookie-alert\">Please enable cookies.</div>\n",
            "<div class=\"cf-error-details-wrapper\" id=\"cf-error-details\">\n",
            "<div class=\"cf-wrapper cf-header cf-error-overview\">\n",
            "<h1 data-translate=\"challenge_headline\">One more step</h1>\n",
            "<h2 class=\"cf-subheadline\"><span data-translate=\"complete_sec_check\">Please complete the security check to access</span> www.dcard.tw</h2>\n",
            "</div>\n",
            "<div class=\"cf-section cf-highlight cf-captcha-container\">\n",
            "<div class=\"cf-wrapper\">\n",
            "<div class=\"cf-columns two\">\n",
            "<div class=\"cf-column\">\n",
            "<div class=\"cf-highlight-inverse cf-form-stacked\">\n",
            "<form action=\"/f?__cf_chl_f_tk=LqSy0V4P58IrgkMHHRE5kzMW0oU7eExyOApeWDoM_wI-1657259028-0-gaNycGzNBz0\" class=\"challenge-form interactive-form\" enctype=\"application/x-www-form-urlencoded\" id=\"challenge-form\" method=\"POST\">\n",
            "<div id=\"cf-please-wait\">\n",
            "<div id=\"spinner\">\n",
            "<div id=\"cf-bubbles\">\n",
            "<div class=\"bubbles\"></div>\n",
            "<div class=\"bubbles\"></div>\n",
            "<div class=\"bubbles\"></div>\n",
            "</div>\n",
            "</div>\n",
            "<p data-translate=\"please_wait\" id=\"cf-spinner-please-wait\">Please stand by, while we are checking your browser...</p>\n",
            "<p data-translate=\"redirecting\" id=\"cf-spinner-redirecting\" style=\"display:none\">Redirecting...</p>\n",
            "</div>\n",
            "<input name=\"md\" type=\"hidden\" value=\"qKt6c2b2HpRsL1u3v9q2EuYtxzWnMhkJ08DuEZPxrC0-1657259028-0-Abwt0TPtuC4KJGd4tyW-LtkzQpjRS_T_Yq1BsioaEOFmz7RPOE2_4c99VGUSLtepfdXcgLHu4jm9CrW_OLUngZ8R8YXHVMN97ieSa2ZejlG4Pf23dwVnlh96CK4QWz0eX-1P2XIK_HlRU_wHGuENDC5p7qN_ToQT5QKSyKXsiCqrPUmTc6DT1cCbzMP4YGaT3lJ6nnk_-eH0gg9yAM8lxccxQa1fs-xrInDlL-pR4XeJKevMdHJkkUPxLXQG9pCTwrCWDpVHowMxv0xtwctphL38KbA_YbBK1QBMbS2YzI3hrpt7zlnocCREbRzAy3RoVOkQ3uE9qW2vZkAZARw3m-xTIORRHttwXJ0e7DS4FV9GOGAaBnDIPWS8xISR5P6vX6LAX9YEh6iy3rM_YLIAPqVjQ4VTcGHhDxvPm6k_z3esEMYIUdlcQamCwxQutK1pyg_wc6z011lvnB1Nf_1bWG7By8mhGXk6PaHQOsmdB7e2s2RqfuYoRjkKPQxA-cU5PdEWv8DaONGuY_DM06YipjRwWVM70AW-xpqN7sSGLHTSM-TZ7cQ4Q_NbF3-W0LoXluOnGO-PXuPkpUUzhREFJIIh0LSkPQamlQKExNlSqp0-sWn_68JzmF-H7zSkaIfrrAtWrUxUJvxeF8i_ZAl43yi0e_gs4x93RAB87xLKBMEM\"/>\n",
            "<input name=\"r\" type=\"hidden\" value=\"OBdQjSD0x_VEGfC36lJS7.yXA1kxqRjS2H3U2qVcSG0-1657259028-0-ASMj9G/wk9LhhGbJFU89Gbt5O03fVYthRA3Uut2QUKqPCRHR7rOXHDmF6zAfB15aLkrDkD6eJk4CpMX3C8JEl8ekLgaFZrKysvr6y8yfVKZsmjrYfpQ7T5kkTk1O53aFm4MS8gLlgKE1yJJ5ckjQ/c79nd+bXtwEBIeslDz4yzHdcGI1kmN53vWo4WomkraUoMDTmX2XgC5xHxC1DabBJ2InCtmjEIWnwpIKikxHCw1Kc2RNgczEp/im8bYd7SNLnXx4W4LQY5WBWL5i4EZJ84ncs7eRLFveWxZnVMA6cN/nE07lpRUs+V9ccJB75NP8BhwHz9dVZe6UaAmzOPTaJLBv25euxUyry6J/aYKAfLWwoeEgP0bAAv/xFDlB0bIRI5MXeJJuHk7KZIyFg8sdh1KJXqh3JLB762OA7LNnBtkW+nVMfLSTfYR2KW01/1gBB/0KwHAil7RLNaY054JtvVWOWzL2lqFwuEKa8QfJ8LoApCzaLsLAkiZ7SXUkPmazcRcDw0BzxN3QrdXh29FZ5vZXQnldaTv/nKYuMBLH/emqzDzgRsrNX//qJHYYcUyoycjFBA7Qt3NFCEZokKja1tSlHR+HZ8uekTzawflfp+kHaFC3eBGS6qtP44a9wYXL7OnKtlGxtExmCGNmuCEuHB2e2XNp/lbYivsylRAHaktNCBXy4l6TW8xkp3xo8C6jxLtBgBAI68tgDnyj6VP63dlLkgxyXg0qVbURzgytFjTGgtIR/Yipu8stmsHV4UBSZ/GDi284pMsRVyiXCtJ8D/RKlaBhPHHR4i85+vsSKqUu5+9u3YqydT3WpAdz6MfScqM5xDiY60fM7nvW4x98Jy4tItb5LBZANq9NKDGqvOgcmHXQRgO8HXzWsS0pBOw6tJ57M7/ND//F8m2ELMG91bOvlfKwrok02OYtzeU5Gj4G4tTWzvVJMkRxEmYWZqOFwuF2NThZEkLyhUjddH5oEsG4bgyw/nGxr1vioCkBbzqE1r8jkNzLKXEYo7tvkDyPiULWxmQY4jQgkIyDOUXGt0ebov4MZGj4MDw4+OKR8lAqve7VZpROwXS2XtRNv0iTY+yTNQneHrc5p2J8jD/5wTvLzAj+HfR1kg/V0IwhQ22bwtuJlZXpx4sBaiUaA37LR2X2KzfEMY6PO35vTfP9KZw2Brc0hVTZ6V329m3azIOPput9ETMs5WVJ7S0Ps3ZOV+GbfwVtN/q0MEkAwnHgthDXQVKu7H7g4J+ir+OmFd0AMoaEzj7S3vCxh0RdvvsiNQXdack5N1FivAMM6uOeGaPZYKupbiaBcMEnxjV1o+osT8LoR3F8dN2B7bkn7bfFSxf0NuDutg1bPdXPfZGuBXUcPZefFz0Q11BCVj5e4VNKO5bSQvhlomMdIfUkYoYlnipxw8ETcTpwoO8DMlsDA2VNDBeIe6858gPxI/wbot2Ei3vJpcOi8YTOgnMtl8HRH5hq5CccCzprts/0gkPfonozJGKO7UAmt85siOZfhIxQD3geaVb1ldstLNSyvkj1EzgWN9+lM1S7Ls/rO+ZLUe4Y1JYNsw7k5Z5pDeyKviCtMKP12a7FyzZLw4NGGw1s6DshwtyM7XFOElxtlu+kGlsEf2Jq/JPyB5uLJOKc3lr/UoHaQGB/PktoS8JWV8K73ppsUNWGsLzBpW1ZwVBqyfo2IuIdnc0H36SeqUa4sq2DHB1R4Z0V1nelSJXR5kV1AQKtrjr/CO35lIn64Tq3G0T86XcoBBt0hOnj/ZCoj17vBZ6BY9kmN5wJCX2RL9qPzw==\"/>\n",
            "<input name=\"vc\" type=\"hidden\" value=\"ea55f7f6cfcad998b3ce13c71cad15f2\"/>\n",
            "<noscript class=\"cf-captcha-info\" id=\"cf-captcha-bookmark\">\n",
            "<h1 data-translate=\"turn_on_js\" style=\"color:#bd2426;\">Please turn JavaScript on and reload the page.</h1>\n",
            "</noscript>\n",
            "<div class=\"cookie-warning\" data-translate=\"turn_on_cookies\" id=\"no-cookie-warning\" style=\"display:none\">\n",
            "<p data-translate=\"turn_on_cookies\" style=\"color:#bd2426;\">Please enable Cookies and reload the page.</p>\n",
            "</div>\n",
            "<script>\n",
            "  //<![CDATA[\n",
            "    var a = function() {try{return !!window.addEventListener} catch(e) {return !1} },\n",
            "      b = function(b, c) {a() ? document.addEventListener(\"DOMContentLoaded\", b, c) : document.attachEvent(\"onreadystatechange\", b)};\n",
            "      b(function(){\n",
            "        var cookiesEnabled=(navigator.cookieEnabled)? true : false;\n",
            "        if(!cookiesEnabled){\n",
            "          var q = document.getElementById('no-cookie-warning');q.style.display = 'block';\n",
            "        }\n",
            "      });\n",
            "  //]]>\n",
            "  </script>\n",
            "<div id=\"trk_captcha_js\" style=\"background-image:url('/cdn-cgi/images/trace/captcha/nojs/h/transparent.gif?ray=727681228bd0b190')\"></div>\n",
            "</form>\n",
            "<script>\n",
            "    //<![CDATA[\n",
            "    (function(){\n",
            "        var isIE = /(MSIE|Trident\\/|Edge\\/)/i.test(window.navigator.userAgent);\n",
            "        var trkjs = isIE ? new Image() : document.createElement('img');\n",
            "        trkjs.setAttribute(\"src\", \"/cdn-cgi/images/trace/captcha/js/transparent.gif?ray=727681228bd0b190\");\n",
            "        trkjs.id = \"trk_captcha_js\";\n",
            "        trkjs.setAttribute(\"alt\", \"\");\n",
            "        document.body.appendChild(trkjs);\n",
            "        var cpo=document.createElement('script');\n",
            "        cpo.type='text/javascript';\n",
            "        cpo.src=\"/cdn-cgi/challenge-platform/h/g/orchestrate/captcha/v1?ray=727681228bd0b190\";\n",
            "        \n",
            "        window._cf_chl_opt.cOgUHash = location.hash === '' && location.href.indexOf('#') !== -1 ? '#' : location.hash;\n",
            "        window._cf_chl_opt.cOgUQuery = location.search === '' && location.href.slice(0, -window._cf_chl_opt.cOgUHash.length).indexOf('?') !== -1 ? '?' : location.search;\n",
            "        if (window._cf_chl_opt.cUPMDTk && window.history && window.history.replaceState) {\n",
            "          var ogU = location.pathname + window._cf_chl_opt.cOgUQuery + window._cf_chl_opt.cOgUHash;\n",
            "          history.replaceState(null, null, \"\\/f?__cf_chl_rt_tk=LqSy0V4P58IrgkMHHRE5kzMW0oU7eExyOApeWDoM_wI-1657259028-0-gaNycGzNBz0\" + window._cf_chl_opt.cOgUHash);\n",
            "          cpo.onload = function() {\n",
            "            history.replaceState(null, null, ogU);\n",
            "          };\n",
            "        }\n",
            "        \n",
            "        document.getElementsByTagName('head')[0].appendChild(cpo);\n",
            "    }());\n",
            "    //]]>\n",
            "    </script>\n",
            "</div>\n",
            "</div>\n",
            "<div class=\"cf-column\">\n",
            "<div class=\"cf-screenshot-container\">\n",
            "<span class=\"cf-no-screenshot\"></span>\n",
            "</div>\n",
            "</div>\n",
            "</div>\n",
            "</div>\n",
            "</div>\n",
            "<div class=\"cf-section cf-wrapper\">\n",
            "<div class=\"cf-columns two\">\n",
            "<div class=\"cf-column\">\n",
            "<h2 data-translate=\"why_captcha_headline\">Why do I have to complete a CAPTCHA?</h2>\n",
            "<p data-translate=\"why_captcha_detail\">Completing the CAPTCHA proves you are a human and gives you temporary access to the web property.</p>\n",
            "</div>\n",
            "<div class=\"cf-column\">\n",
            "<h2 data-translate=\"resolve_captcha_headline\">What can I do to prevent this in the future?</h2>\n",
            "<p data-translate=\"resolve_captcha_antivirus\">If you are on a personal connection, like at home, you can run an anti-virus scan on your device to make sure it is not infected with malware.</p>\n",
            "<p data-translate=\"resolve_captcha_network\">If you are at an office or shared network, you can ask the network administrator to run a scan across the network looking for misconfigured or infected devices.</p>\n",
            "</div>\n",
            "</div>\n",
            "</div>\n",
            "<div class=\"cf-error-footer cf-wrapper w-240 lg:w-full py-10 sm:py-4 sm:px-8 mx-auto text-center sm:text-left border-solid border-0 border-t border-gray-300\">\n",
            "<p class=\"text-13\">\n",
            "<span class=\"cf-footer-item sm:block sm:mb-1\">Cloudflare Ray ID: <strong class=\"font-semibold\">727681228bd0b190</strong></span>\n",
            "<span class=\"cf-footer-separator sm:hidden\">•</span>\n",
            "<span class=\"cf-footer-item hidden sm:block sm:mb-1\" id=\"cf-footer-item-ip\">\n",
            "      Your IP:\n",
            "      <button class=\"cf-footer-ip-reveal-btn\" id=\"cf-footer-ip-reveal\" type=\"button\">Click to reveal</button>\n",
            "<span class=\"hidden\" id=\"cf-footer-ip\">35.196.233.226</span>\n",
            "<span class=\"cf-footer-separator sm:hidden\">•</span>\n",
            "</span>\n",
            "<span class=\"cf-footer-item sm:block sm:mb-1\"><span>Performance &amp; security by</span> <a href=\"https://www.cloudflare.com/5xx-error-landing\" id=\"brand_link\" rel=\"noopener noreferrer\" target=\"_blank\">Cloudflare</a></span>\n",
            "</p>\n",
            "<script>(function(){function d(){var b=a.getElementById(\"cf-footer-item-ip\"),c=a.getElementById(\"cf-footer-ip-reveal\");b&&\"classList\"in b&&(b.classList.remove(\"hidden\"),c.addEventListener(\"click\",function(){c.classList.add(\"hidden\");a.getElementById(\"cf-footer-ip\").classList.remove(\"hidden\")}))}var a=document;document.addEventListener&&a.addEventListener(\"DOMContentLoaded\",d)})();</script>\n",
            "</div><!-- /.error-footer -->\n",
            "</div>\n",
            "</div>\n",
            "<script>\n",
            "  window._cf_translation = {};\n",
            "  \n",
            "  \n",
            "</script>\n",
            "</body>\n",
            "</html>\n",
            "\n",
            "<class 'bs4.BeautifulSoup'>\n"
          ]
        }
      ],
      "source": [
        "print('為什麼要使用 BeatifulSoup 處理？處理後的型態是什麼？ => ')\n",
        "\n",
        "soup = BeautifulSoup(r.text)\n",
        "print(soup)\n",
        "print(type(soup))"
      ]
    },
    {
      "cell_type": "markdown",
      "metadata": {
        "id": "dcQ1_mbbUA-1"
      },
      "source": [
        "### 2. 知乎： https://www.zhihu.com/explore"
      ]
    },
    {
      "cell_type": "code",
      "execution_count": null,
      "metadata": {
        "id": "LXBMvq3sUA-2",
        "outputId": "61fdc9a5-ba11-4234-bf9e-3d885a207a43"
      },
      "outputs": [
        {
          "name": "stdout",
          "output_type": "stream",
          "text": [
            "<html>\r\n",
            "<head><title>400 Bad Request</title></head>\r\n",
            "<body bgcolor=\"white\">\r\n",
            "<center><h1>400 Bad Request</h1></center>\r\n",
            "<hr><center>openresty</center>\r\n",
            "</body>\r\n",
            "</html>\r\n",
            "\n"
          ]
        }
      ],
      "source": [
        "url = 'https://www.zhihu.com/explore'\n",
        "r = requests.get(url)\n",
        "r.encoding = 'utf-8'\n",
        "\n",
        "print(r.text[0:600])"
      ]
    },
    {
      "cell_type": "markdown",
      "metadata": {
        "id": "rFHdYcQCUA-3"
      },
      "source": [
        "### 3. 觀察一下知乎回來的資料好像有點怪怪的，該怎麼解決？"
      ]
    },
    {
      "cell_type": "code",
      "execution_count": 9,
      "metadata": {
        "id": "8dXQhnYYUA-4",
        "outputId": "72f17cf7-0bfa-4697-fdca-9ca1b5de1a67",
        "colab": {
          "base_uri": "https://localhost:8080/"
        }
      },
      "outputs": [
        {
          "output_type": "stream",
          "name": "stdout",
          "text": [
            "<!doctype html>\n",
            "<html lang=\"zh\" data-hairline=\"true\" data-theme=\"light\"><head><meta charSet=\"utf-8\"/><title data-rh=\"true\">发现 - 知乎</title><meta name=\"viewport\" content=\"width=device-width,initial-scale=1,maximum-scale=1\"/><meta name=\"renderer\" content=\"webkit\"/><meta name=\"force-rendering\" content=\"webkit\"/><meta http-equiv=\"X-UA-Compatible\" content=\"IE=edge,chrome=1\"/><meta name=\"google-site-verification\" content=\"FTeR0c8arOPKh8c5DYh_9uu98_zJbaWw53J-Sch9MTg\"/><meta name=\"description\" property=\"og:description\" content=\"知乎，中文互联网高质量的问答社区和创作者聚集的原创内容平台，于 2011 年 1 月正式上线，以「让人们更好的分享知识、经验和见解，找到自己的解答」为\n"
          ]
        }
      ],
      "source": [
        "import requests\n",
        "url = 'https://www.zhihu.com/explore'\n",
        "\n",
        "headers = {'user-agent': 'my-app/0.0.1'}\n",
        "r = requests.get(url, headers = headers)\n",
        "\n",
        "r.encoding = 'utf-8'\n",
        "print(r.text[0:600])"
      ]
    },
    {
      "cell_type": "code",
      "execution_count": null,
      "metadata": {
        "id": "_QIi-E8bUA-5"
      },
      "outputs": [],
      "source": [
        ""
      ]
    },
    {
      "cell_type": "code",
      "execution_count": null,
      "metadata": {
        "id": "vpfPzjsNUA-5"
      },
      "outputs": [],
      "source": [
        ""
      ]
    }
  ],
  "metadata": {
    "kernelspec": {
      "display_name": "Python 3",
      "language": "python",
      "name": "python3"
    },
    "language_info": {
      "codemirror_mode": {
        "name": "ipython",
        "version": 3
      },
      "file_extension": ".py",
      "mimetype": "text/x-python",
      "name": "python",
      "nbconvert_exporter": "python",
      "pygments_lexer": "ipython3",
      "version": "3.6.5"
    },
    "colab": {
      "name": "Day008_HW.ipynb",
      "provenance": []
    }
  },
  "nbformat": 4,
  "nbformat_minor": 0
}