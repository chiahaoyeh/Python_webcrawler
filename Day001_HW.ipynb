{
  "nbformat": 4,
  "nbformat_minor": 0,
  "metadata": {
    "colab": {
      "name": "Day001_HW.ipynb",
      "provenance": [],
      "collapsed_sections": [],
      "authorship_tag": "ABX9TyPr4HGYcVT8glnGysIbc6BR",
      "include_colab_link": true
    },
    "kernelspec": {
      "name": "python3",
      "display_name": "Python 3"
    },
    "language_info": {
      "name": "python"
    }
  },
  "cells": [
    {
      "cell_type": "markdown",
      "metadata": {
        "id": "view-in-github",
        "colab_type": "text"
      },
      "source": [
        "<a href=\"https://colab.research.google.com/github/chiahaoyeh/Python_webcrawler/blob/main/Day001_HW.ipynb\" target=\"_parent\"><img src=\"https://colab.research.google.com/assets/colab-badge.svg\" alt=\"Open In Colab\"/></a>"
      ]
    },
    {
      "cell_type": "markdown",
      "source": [
        "\n",
        "\n",
        "1.   簡答題）檔案、API、爬蟲三種取得資料方式有什麼不同？\n",
        "\n",
        "> 1.   檔案 資料會包成檔案提供下載，格式可能包含常⽤的標準格式，例如「CSV」、「JSON」\n",
        "> 2. 開放接⼝（API） 提供程式化的連接的接⼝，讓⼯程師/分析師可以選擇資料中要讀取的特定部分，⽽不需要把整 批資料事先完整下載回來\n",
        "> 3. 網⾴爬蟲 資料沒有以檔案或 API 提供，但出現在網⾴上。可以利⽤爬蟲爬蟲程式，將網⾴的資料解析所需 的部分\n",
        "---\n",
        "2.   （實作）完成一個程式，需滿足下列需求：\n",
        "\n",
        "> 「下載指定檔案到 Data 資料夾，存成檔名 Homework.txt」的檔案網址：https://www.w3.org/TR/PNG/iso_8859-1.txt 或任一個 .txt 的檔案網址\n",
        "\n",
        "\n",
        "\n"
      ],
      "metadata": {
        "id": "H5jDBJRdVRcc"
      }
    },
    {
      "cell_type": "code",
      "source": [
        ""
      ],
      "metadata": {
        "id": "Gz9ytRAqXlF5"
      },
      "execution_count": null,
      "outputs": []
    }
  ]
}