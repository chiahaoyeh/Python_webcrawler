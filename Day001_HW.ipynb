{
  "cells": [
    {
      "cell_type": "markdown",
      "metadata": {
        "id": "7PKaXeKyG6ps"
      },
      "source": [
        "# 資料來源與檔案存取\n",
        "\n",
        "* 資料來源與取得\n",
        "* 開放資料\n",
        "* 資料儲存格式\n",
        "* Python 存取檔案"
      ]
    },
    {
      "cell_type": "markdown",
      "metadata": {
        "id": "UtRpzz34G6pw"
      },
      "source": [
        "## 作業目標\n",
        "\n",
        "* 1.（簡答題）檔案、API、爬蟲三種取得資料方式有什麼不同？\n",
        "\n",
        "\n",
        "* 2.（實作）完成一個程式，需滿足下列需求：\n",
        "    * 下載指定檔案到 Data 資料夾，存成檔名 Homework.txt\n",
        "    * 檢查 Data 資料夾是否有 Homework.txt 檔名之檔案\n",
        "    * 將「Hello World」字串覆寫到 Homework.txt 檔案\n",
        "    * 檢查 Homework.txt 檔案字數是否符合 Hello World 字數\n"
      ]
    },
    {
      "cell_type": "markdown",
      "metadata": {
        "id": "p8OlxTWMG6px"
      },
      "source": [
        "### 1.（簡答題）檔案、API、爬蟲三種取得資料方式有什麼不同？\n",
        "     1.檔案：資料會包成檔案提供下載，格式可能包含常用的標準格式，例如「CSV」、「JSON」等等通用的格式。\n",
        "     2.API：提供程式化的連接的接口，讓工程師/分析師可以選擇資料中要讀取的特定部分，而不需要把整批資料事先完整下載回來。。\n",
        "     3.爬蟲：資料沒有以檔案或 API 提供，但出現在網頁上。可以利用爬蟲爬蟲程式，將網頁的資料解析所需的部分。"
      ]
    },
    {
      "cell_type": "markdown",
      "metadata": {
        "id": "9hcnrsu5G6py"
      },
      "source": [
        "### 2.（實作）完成一個程式，需滿足下列需求：\n",
        "    * 下載指定檔案到 Data 資料夾，存成檔名 Homework.txt\n",
        "    * 檢查 Data 資料夾是否有 Homework.txt 檔名之檔案\n",
        "    * 將「Hello World」字串覆寫到 Homework.txt 檔案\n",
        "    * 檢查 Homework.txt 檔案字數是否符合 Hello World 字數\n"
      ]
    },
    {
      "cell_type": "code",
      "execution_count": 1,
      "metadata": {
        "id": "ZuGkhROIG6py"
      },
      "outputs": [],
      "source": [
        "# 根據需求引入正確的 Library\n",
        "\n",
        "from urllib.request import urlretrieve\n",
        "import os"
      ]
    },
    {
      "cell_type": "code",
      "execution_count": 2,
      "metadata": {
        "id": "KK-F4vzqG6pz"
      },
      "outputs": [],
      "source": [
        "# 下載檔案到 Data 資料夾，存成檔名 Homework.txt\n",
        "\n",
        "try:\n",
        "    os.makedirs( './Data', exist_ok=True )\n",
        "    urlretrieve (\"https://www.w3.org/TR/PNG/iso_8859-1.txt\", \"./Data/Homework.txt\")\n",
        "except:\n",
        "    print('發生錯誤！')"
      ]
    },
    {
      "cell_type": "code",
      "execution_count": 3,
      "metadata": {
        "id": "LF1KDd42G6p0",
        "outputId": "7dd48ea8-35e9-4029-eb84-fee598f64a4e",
        "colab": {
          "base_uri": "https://localhost:8080/"
        }
      },
      "outputs": [
        {
          "output_type": "stream",
          "name": "stdout",
          "text": [
            "[O] 檢查 Data 資料夾有 Homework.txt 檔名之檔案\n"
          ]
        }
      ],
      "source": [
        "# 檢查 Data 資料夾是否有 Homework.txt 檔名之檔案\n",
        "\n",
        "files = os.listdir(\"./Data\")\n",
        "\n",
        "if 'Homework.txt' in files:\n",
        "    print('[O] 檢查 Data 資料夾有 Homework.txt 檔名之檔案')\n",
        "else:\n",
        "    print('[X] 檢查 Data 資料夾無 Homework.txt 檔名之檔案')"
      ]
    },
    {
      "cell_type": "code",
      "execution_count": 4,
      "metadata": {
        "id": "-cad4rsAG6p2"
      },
      "outputs": [],
      "source": [
        "# 將「Hello World」字串覆寫到 Homework.txt 檔案\n",
        "\n",
        "f = ''\n",
        "\n",
        "with open(\"./Data/Homework.txt\", \"w\") as fh:\n",
        "    fh.write('Hello World')\n",
        "\n",
        "try:\n",
        "    with open(\"./Data/Homework.txt\", \"r\") as fh:\n",
        "        f = fh.read()\n",
        "except EnvironmentError: # parent of IOError, OSError *and* WindowsError where available\n",
        "    pass    \n",
        "    \n"
      ]
    },
    {
      "cell_type": "code",
      "execution_count": 5,
      "metadata": {
        "scrolled": true,
        "id": "zExteiJWG6p3",
        "outputId": "5aab345a-9820-49a1-8c71-cff06adaf755",
        "colab": {
          "base_uri": "https://localhost:8080/"
        }
      },
      "outputs": [
        {
          "output_type": "stream",
          "name": "stdout",
          "text": [
            "[O] 檢查 Homework.txt 檔案字數是否符合 Hello World 字數\n"
          ]
        }
      ],
      "source": [
        "# 檢查 Homework.txt 檔案字數是否符合 Hello World 字數\n",
        "\n",
        "if len('Hello World') == len(f):\n",
        "    print('[O] 檢查 Homework.txt 檔案字數是否符合 Hello World 字數')\n",
        "else:\n",
        "    print('[X] 檢查 Homework.txt 檔案字數是否符合 Hello World 字數')"
      ]
    }
  ],
  "metadata": {
    "kernelspec": {
      "display_name": "Python 3",
      "language": "python",
      "name": "python3"
    },
    "language_info": {
      "codemirror_mode": {
        "name": "ipython",
        "version": 3
      },
      "file_extension": ".py",
      "mimetype": "text/x-python",
      "name": "python",
      "nbconvert_exporter": "python",
      "pygments_lexer": "ipython3",
      "version": "3.6.5"
    },
    "colab": {
      "name": "Day001_HW.ipynb",
      "provenance": []
    }
  },
  "nbformat": 4,
  "nbformat_minor": 0
}