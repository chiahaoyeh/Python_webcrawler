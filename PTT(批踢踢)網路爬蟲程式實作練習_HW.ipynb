{
  "cells": [
    {
      "cell_type": "markdown",
      "metadata": {
        "id": "XIhKnPyPUSwG"
      },
      "source": [
        "# PTT 網路爬蟲實作練習\n",
        "\n",
        "\n",
        "* 能夠利用 Request + BeatifulSour 撰寫爬蟲，並存放到合適的資料結構\n"
      ]
    },
    {
      "cell_type": "markdown",
      "metadata": {
        "id": "RW5lqk10USwO"
      },
      "source": [
        "## 作業目標\n",
        "\n",
        "根據範例 ，完成以下問題：\n",
        "\n",
        "* ① 印出最新文章的「作者」「標題」「時間」\n",
        "* ② 印出第一頁所有文章的「作者」「標題」「時間」\n"
      ]
    },
    {
      "cell_type": "markdown",
      "metadata": {
        "id": "oNwLKwmOUSwO"
      },
      "source": [
        "### ① 印出最新文章的「作者」「標題」「時間」"
      ]
    },
    {
      "cell_type": "code",
      "execution_count": 2,
      "metadata": {
        "id": "lI7NOVSyUSwP",
        "outputId": "01ca2103-1c9d-41d0-eac0-0e1d24de16d5",
        "colab": {
          "base_uri": "https://localhost:8080/",
          "height": 35
        }
      },
      "outputs": [
        {
          "output_type": "execute_result",
          "data": {
            "text/plain": [
              "'\\nYour Code\\n'"
            ],
            "application/vnd.google.colaboratory.intrinsic+json": {
              "type": "string"
            }
          },
          "metadata": {},
          "execution_count": 2
        }
      ],
      "source": [
        "'''\n",
        "Your Code\n",
        "'''"
      ]
    },
    {
      "cell_type": "markdown",
      "metadata": {
        "id": "3uVmt5XuUSwR"
      },
      "source": [
        "### ② 印出第一頁所有文章的「作者」「標題」「時間」"
      ]
    },
    {
      "cell_type": "code",
      "execution_count": 4,
      "metadata": {
        "id": "SCgCL8f2USwR",
        "outputId": "add35845-b83d-428c-a64c-402585e2ebd7",
        "colab": {
          "base_uri": "https://localhost:8080/"
        }
      },
      "outputs": [
        {
          "output_type": "stream",
          "name": "stdout",
          "text": [
            "                        article                          title  \\\n",
            "0  TheoEpstein (Red Sox→Cubs→？)   Re: [外絮] 哈登：我告訴莫雷先去補強，剩多少再給我   \n",
            "1         dragon803 (miComet最強)  Re: [新聞] NBA／米契爾交易報價？ 傳爵士希望獲至   \n",
            "2                 ssshleo (里歐洋)     [新聞] CYT-錯過高薪時代要找老媽算帳 巴克利玩   \n",
            "3             XXXaBg (對的事情做一千次)     [新聞] CYT-小朋友晚安手勢不夠還躺地 柯瑞轉發   \n",
            "4                   EZ78 (EZ78)     [情報] 今日Talen Horton-Tucker   \n",
            "5   HOlajuwon (Hakeem Olajuwon)                [討論] 超巨的全明星隊友次數   \n",
            "6         Bainite (黑羽毛 ┐(′д`)┌)                    [公告] 板主徵選開始   \n",
            "7         Bainite (黑羽毛 ┐(′д`)┌)            [公告]關於交易簽約相關情報文不限額度   \n",
            "\n",
            "                       time  \n",
            "0  Mon Jul 18 12:59:20 2022  \n",
            "1  Mon Jul 18 13:40:07 2022  \n",
            "2  Mon Jul 18 14:25:51 2022  \n",
            "3  Mon Jul 18 14:57:51 2022  \n",
            "4  Mon Jul 18 15:36:40 2022  \n",
            "5  Mon Jul 18 16:39:07 2022  \n",
            "6  Mon Jun 27 14:37:19 2022  \n",
            "7  Wed Jun 29 13:32:15 2022  \n"
          ]
        }
      ],
      "source": [
        "import requests\n",
        "from bs4 import BeautifulSoup\n",
        "import pandas as pd\n",
        "\n",
        "url = 'https://www.ptt.cc/bbs/NBA/index.html'\n",
        "r = requests.get(url)\n",
        "\n",
        "soup = BeautifulSoup(r.text, \"html5lib\")\n",
        "data = []\n",
        "\n",
        "for d in soup.find_all(class_=\"title\"):\n",
        "    try:\n",
        "        soup_data = BeautifulSoup(requests.get('https://www.ptt.cc'+d.find('a')['href']).text, \"html5lib\")\n",
        "        results = soup_data.select('span.article-meta-value')\n",
        "        row = [results[0].text, results[2].text, results[3].text]\n",
        "        data.append(row)\n",
        "    except:\n",
        "        continue\n",
        "df=pd.DataFrame(data,columns=['article','title','time'])\n",
        "print(df)"
      ]
    },
    {
      "cell_type": "markdown",
      "metadata": {
        "id": "iSK0NueWUSwS"
      },
      "source": [
        "### ③ 試著爬爬看其他版的文章"
      ]
    },
    {
      "cell_type": "code",
      "execution_count": null,
      "metadata": {
        "id": "em5Su2aBUSwT"
      },
      "outputs": [],
      "source": [
        "'''\n",
        "Your Code\n",
        "'''"
      ]
    }
  ],
  "metadata": {
    "kernelspec": {
      "display_name": "Python 3",
      "language": "python",
      "name": "python3"
    },
    "language_info": {
      "codemirror_mode": {
        "name": "ipython",
        "version": 3
      },
      "file_extension": ".py",
      "mimetype": "text/x-python",
      "name": "python",
      "nbconvert_exporter": "python",
      "pygments_lexer": "ipython3",
      "version": "3.6.5"
    },
    "colab": {
      "name": "PTT(批踢踢)網路爬蟲程式實作練習_HW.ipynb",
      "provenance": []
    }
  },
  "nbformat": 4,
  "nbformat_minor": 0
}